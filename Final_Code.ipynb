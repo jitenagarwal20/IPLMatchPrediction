{
 "cells": [
  {
   "cell_type": "code",
   "execution_count": 71,
   "id": "65a5e3d2-b0c0-4dd5-a151-1e0ff81b762c",
   "metadata": {},
   "outputs": [],
   "source": [
    "# importing libraries"
   ]
  },
  {
   "cell_type": "code",
   "execution_count": 555,
   "id": "df8cb4fc-a760-49c7-a9c4-0fb776287a06",
   "metadata": {},
   "outputs": [],
   "source": [
    "import pandas as pd\n",
    "import numpy as np\n",
    "import matplotlib.pyplot as plt \n",
    "from sklearn.preprocessing import StandardScaler\n",
    "from sklearn.model_selection import train_test_split\n",
    "from sklearn import svm\n",
    "from sklearn.neighbors import KNeighborsClassifier\n",
    "from sklearn.tree import DecisionTreeClassifier\n",
    "from sklearn.ensemble import RandomForestClassifier\n",
    "from lightgbm import LGBMClassifier\n",
    "from catboost import CatBoostClassifier\n",
    "from sklearn.naive_bayes import GaussianNB\n",
    "from sklearn.metrics import accuracy_score"
   ]
  },
  {
   "cell_type": "code",
   "execution_count": 556,
   "id": "7b3a0b69-a68d-4dae-92dc-64bd04df8e25",
   "metadata": {},
   "outputs": [],
   "source": [
    "#read dataset"
   ]
  },
  {
   "cell_type": "code",
   "execution_count": 1110,
   "id": "cd20e6f1-28c3-4962-889f-8edb2ab052f3",
   "metadata": {},
   "outputs": [],
   "source": [
    "df=pd.read_excel(\"test.xlsx\")"
   ]
  },
  {
   "cell_type": "code",
   "execution_count": 1111,
   "id": "b382fb19-ab53-4757-ad9e-9ec1a12708b3",
   "metadata": {},
   "outputs": [
    {
     "data": {
      "text/html": [
       "<div>\n",
       "<style scoped>\n",
       "    .dataframe tbody tr th:only-of-type {\n",
       "        vertical-align: middle;\n",
       "    }\n",
       "\n",
       "    .dataframe tbody tr th {\n",
       "        vertical-align: top;\n",
       "    }\n",
       "\n",
       "    .dataframe thead th {\n",
       "        text-align: right;\n",
       "    }\n",
       "</style>\n",
       "<table border=\"1\" class=\"dataframe\">\n",
       "  <thead>\n",
       "    <tr style=\"text-align: right;\">\n",
       "      <th></th>\n",
       "      <th>venue</th>\n",
       "      <th>team1</th>\n",
       "      <th>team2</th>\n",
       "      <th>toss_winner</th>\n",
       "      <th>toss_decision</th>\n",
       "      <th>winner</th>\n",
       "      <th>season</th>\n",
       "    </tr>\n",
       "  </thead>\n",
       "  <tbody>\n",
       "    <tr>\n",
       "      <th>0</th>\n",
       "      <td>MA Chidambaram Stadium, Chepauk</td>\n",
       "      <td>RCB</td>\n",
       "      <td>CSK</td>\n",
       "      <td>RCB</td>\n",
       "      <td>BAT</td>\n",
       "      <td>CSK</td>\n",
       "      <td>2024</td>\n",
       "    </tr>\n",
       "    <tr>\n",
       "      <th>1</th>\n",
       "      <td>Maharaja Yadavindra Singh Stadium</td>\n",
       "      <td>DC</td>\n",
       "      <td>PBKS</td>\n",
       "      <td>PBKS</td>\n",
       "      <td>BOWL</td>\n",
       "      <td>PBKS</td>\n",
       "      <td>2024</td>\n",
       "    </tr>\n",
       "    <tr>\n",
       "      <th>2</th>\n",
       "      <td>Eden Gardens</td>\n",
       "      <td>SRH</td>\n",
       "      <td>KKR</td>\n",
       "      <td>SRH</td>\n",
       "      <td>BOWL</td>\n",
       "      <td>KKR</td>\n",
       "      <td>2024</td>\n",
       "    </tr>\n",
       "    <tr>\n",
       "      <th>3</th>\n",
       "      <td>Sawai Mansingh Stadium</td>\n",
       "      <td>LSG</td>\n",
       "      <td>RR</td>\n",
       "      <td>RR</td>\n",
       "      <td>BAT</td>\n",
       "      <td>RR</td>\n",
       "      <td>2024</td>\n",
       "    </tr>\n",
       "    <tr>\n",
       "      <th>4</th>\n",
       "      <td>Narendra Modi Stadium</td>\n",
       "      <td>MI</td>\n",
       "      <td>GT</td>\n",
       "      <td>MI</td>\n",
       "      <td>BOWL</td>\n",
       "      <td>GT</td>\n",
       "      <td>2024</td>\n",
       "    </tr>\n",
       "  </tbody>\n",
       "</table>\n",
       "</div>"
      ],
      "text/plain": [
       "                               venue team1 team2 toss_winner toss_decision  \\\n",
       "0    MA Chidambaram Stadium, Chepauk   RCB   CSK         RCB           BAT   \n",
       "1  Maharaja Yadavindra Singh Stadium    DC  PBKS        PBKS          BOWL   \n",
       "2                       Eden Gardens   SRH   KKR         SRH          BOWL   \n",
       "3             Sawai Mansingh Stadium   LSG    RR          RR           BAT   \n",
       "4              Narendra Modi Stadium    MI    GT          MI          BOWL   \n",
       "\n",
       "  winner  season  \n",
       "0    CSK    2024  \n",
       "1   PBKS    2024  \n",
       "2    KKR    2024  \n",
       "3     RR    2024  \n",
       "4     GT    2024  "
      ]
     },
     "execution_count": 1111,
     "metadata": {},
     "output_type": "execute_result"
    }
   ],
   "source": [
    "df.head()"
   ]
  },
  {
   "cell_type": "code",
   "execution_count": 1112,
   "id": "b8ff303b",
   "metadata": {},
   "outputs": [],
   "source": [
    "# Given team list\n",
    "given_team_list = ['MI', 'CSK', 'RCB' , 'DC' , 'GT' , 'LSG' , 'PBKS' , 'RR' , 'KKR' , 'SRH']\n",
    "\n",
    "# Create a boolean mask for rows where team1 or team2 is not in the given team list\n",
    "mask = ((df['team1'].isin(given_team_list)) & (df['team2'].isin(given_team_list)))\n",
    "\n",
    "# Filter out rows based on the mask\n",
    "filtered_df = df[mask]\n",
    "df = filtered_df\n",
    "\n",
    "df = df[df['winner'].notna()] \n",
    "df = df[df['winner'] != 'RAIN']"
   ]
  },
  {
   "cell_type": "code",
   "execution_count": 1113,
   "id": "3f5eb10a-6698-48f3-8e9a-aba3ddc1c28c",
   "metadata": {},
   "outputs": [
    {
     "data": {
      "text/html": [
       "<div>\n",
       "<style scoped>\n",
       "    .dataframe tbody tr th:only-of-type {\n",
       "        vertical-align: middle;\n",
       "    }\n",
       "\n",
       "    .dataframe tbody tr th {\n",
       "        vertical-align: top;\n",
       "    }\n",
       "\n",
       "    .dataframe thead th {\n",
       "        text-align: right;\n",
       "    }\n",
       "</style>\n",
       "<table border=\"1\" class=\"dataframe\">\n",
       "  <thead>\n",
       "    <tr style=\"text-align: right;\">\n",
       "      <th></th>\n",
       "      <th>venue</th>\n",
       "      <th>team1</th>\n",
       "      <th>team2</th>\n",
       "      <th>toss_winner</th>\n",
       "      <th>toss_decision</th>\n",
       "      <th>winner</th>\n",
       "      <th>season</th>\n",
       "    </tr>\n",
       "  </thead>\n",
       "  <tbody>\n",
       "    <tr>\n",
       "      <th>448</th>\n",
       "      <td>Wankhede Stadium</td>\n",
       "      <td>MI</td>\n",
       "      <td>RR</td>\n",
       "      <td>MI</td>\n",
       "      <td>FIELD</td>\n",
       "      <td>MI</td>\n",
       "      <td>2014</td>\n",
       "    </tr>\n",
       "    <tr>\n",
       "      <th>449</th>\n",
       "      <td>Eden Gardens</td>\n",
       "      <td>PBKS</td>\n",
       "      <td>KKR</td>\n",
       "      <td>PBKS</td>\n",
       "      <td>FIELD</td>\n",
       "      <td>KKR</td>\n",
       "      <td>2014</td>\n",
       "    </tr>\n",
       "    <tr>\n",
       "      <th>450</th>\n",
       "      <td>Brabourne Stadium</td>\n",
       "      <td>CSK</td>\n",
       "      <td>MI</td>\n",
       "      <td>CSK</td>\n",
       "      <td>FIELD</td>\n",
       "      <td>CSK</td>\n",
       "      <td>2014</td>\n",
       "    </tr>\n",
       "    <tr>\n",
       "      <th>451</th>\n",
       "      <td>Wankhede Stadium</td>\n",
       "      <td>CSK</td>\n",
       "      <td>PBKS</td>\n",
       "      <td>CSK</td>\n",
       "      <td>FIELD</td>\n",
       "      <td>PBKS</td>\n",
       "      <td>2014</td>\n",
       "    </tr>\n",
       "    <tr>\n",
       "      <th>452</th>\n",
       "      <td>M Chinnaswamy Stadium</td>\n",
       "      <td>KKR</td>\n",
       "      <td>PBKS</td>\n",
       "      <td>KKR</td>\n",
       "      <td>FIELD</td>\n",
       "      <td>KKR</td>\n",
       "      <td>2014</td>\n",
       "    </tr>\n",
       "  </tbody>\n",
       "</table>\n",
       "</div>"
      ],
      "text/plain": [
       "                     venue team1 team2 toss_winner toss_decision winner  \\\n",
       "448       Wankhede Stadium    MI    RR          MI         FIELD     MI   \n",
       "449           Eden Gardens  PBKS   KKR        PBKS         FIELD    KKR   \n",
       "450      Brabourne Stadium   CSK    MI         CSK         FIELD    CSK   \n",
       "451       Wankhede Stadium   CSK  PBKS         CSK         FIELD   PBKS   \n",
       "452  M Chinnaswamy Stadium   KKR  PBKS         KKR         FIELD    KKR   \n",
       "\n",
       "     season  \n",
       "448    2014  \n",
       "449    2014  \n",
       "450    2014  \n",
       "451    2014  \n",
       "452    2014  "
      ]
     },
     "execution_count": 1113,
     "metadata": {},
     "output_type": "execute_result"
    }
   ],
   "source": [
    "df.tail()"
   ]
  },
  {
   "cell_type": "code",
   "execution_count": 1114,
   "id": "c9d27fd4-35b9-49e7-b5a2-ca37087bf4ed",
   "metadata": {},
   "outputs": [],
   "source": [
    "# checking total rows and columns in the dataset"
   ]
  },
  {
   "cell_type": "code",
   "execution_count": 1115,
   "id": "3449d968-2cb3-45f8-88fe-0a6e1fa6e104",
   "metadata": {},
   "outputs": [
    {
     "name": "stdout",
     "output_type": "stream",
     "text": [
      "(419, 7)\n"
     ]
    }
   ],
   "source": [
    "print(df.shape)"
   ]
  },
  {
   "cell_type": "code",
   "execution_count": 1116,
   "id": "4c9b1d28-d146-4a2e-ba73-3968af09863c",
   "metadata": {},
   "outputs": [
    {
     "data": {
      "text/plain": [
       "array(['CSK', 'PBKS', 'KKR', 'RR', 'GT', 'SRH', 'LSG', 'DC', 'MI', 'RCB'],\n",
       "      dtype=object)"
      ]
     },
     "execution_count": 1116,
     "metadata": {},
     "output_type": "execute_result"
    }
   ],
   "source": [
    "df['winner'].unique()"
   ]
  },
  {
   "cell_type": "code",
   "execution_count": 1117,
   "id": "ef22e8b0-cf4a-44bd-bbdf-0fc271980612",
   "metadata": {},
   "outputs": [
    {
     "data": {
      "text/plain": [
       "MI      55\n",
       "DC      52\n",
       "SRH     52\n",
       "RCB     51\n",
       "PBKS    50\n",
       "KKR     50\n",
       "CSK     38\n",
       "RR      33\n",
       "GT      26\n",
       "LSG     12\n",
       "Name: team1, dtype: int64"
      ]
     },
     "execution_count": 1117,
     "metadata": {},
     "output_type": "execute_result"
    }
   ],
   "source": [
    "df['team1'].value_counts()"
   ]
  },
  {
   "cell_type": "code",
   "execution_count": 1118,
   "id": "73d1bd7a",
   "metadata": {},
   "outputs": [
    {
     "name": "stdout",
     "output_type": "stream",
     "text": [
      "     venue  team1  team2  toss_winner  toss_decision  winner  season\n",
      "0       13      7      0            7              0       0       7\n",
      "1       14      1      6            6              1       6       7\n",
      "2        5      9      3            9              1       3       7\n",
      "3       21      4      8            8              0       8       7\n",
      "4       16      5      2            5              1       2       7\n",
      "..     ...    ...    ...          ...            ...     ...     ...\n",
      "448     23      5      8            5              2       5       0\n",
      "449      5      6      3            6              2       3       0\n",
      "450      4      0      5            0              2       0       0\n",
      "451     23      0      6            0              2       6       0\n",
      "452     12      3      6            3              2       3       0\n",
      "\n",
      "[419 rows x 7 columns]\n"
     ]
    }
   ],
   "source": [
    "from sklearn.preprocessing import LabelEncoder\n",
    "\n",
    "# Create an instance of LabelEncoder\n",
    "lab = LabelEncoder()\n",
    "\n",
    "# Perform label encoding on the 'my_column' column\n",
    "df['team1'] = lab.fit_transform(df['team1'])\n",
    "df['team2'] = lab.fit_transform(df['team2'])\n",
    "df['toss_winner'] = lab.fit_transform(df['toss_winner'])\n",
    "df['toss_decision'] = lab.fit_transform(df['toss_decision'])\n",
    "df['venue'] = lab.fit_transform(df['venue'])\n",
    "df['winner'] = lab.fit_transform(df['winner'])\n",
    "df['season'] = lab.fit_transform(df['season'])\n",
    "\n",
    "print(df)"
   ]
  },
  {
   "cell_type": "code",
   "execution_count": 1119,
   "id": "c2b8e1c3-55c7-45f9-96a2-bca6fc93fa8c",
   "metadata": {},
   "outputs": [
    {
     "name": "stdout",
     "output_type": "stream",
     "text": [
      "     venue  team1  team2  toss_winner  toss_decision  winner  season  \\\n",
      "0       13      7      0            7              0       0       7   \n",
      "1       14      1      6            6              1       6       7   \n",
      "2        5      9      3            9              1       3       7   \n",
      "3       21      4      8            8              0       8       7   \n",
      "4       16      5      2            5              1       2       7   \n",
      "..     ...    ...    ...          ...            ...     ...     ...   \n",
      "414     23      5      8            5              2       5       0   \n",
      "415      5      6      3            6              2       3       0   \n",
      "416      4      0      5            0              2       0       0   \n",
      "417     23      0      6            0              2       6       0   \n",
      "418     12      3      6            3              2       3       0   \n",
      "\n",
      "     win_streak_team1  win_streak_team2  \n",
      "0                   0                 0  \n",
      "1                   0                 0  \n",
      "2                   0                 0  \n",
      "3                   0                 0  \n",
      "4                   0                 0  \n",
      "..                ...               ...  \n",
      "414                 4                 0  \n",
      "415                 3                 6  \n",
      "416                 0                 5  \n",
      "417                 1                 2  \n",
      "418                 7                 3  \n",
      "\n",
      "[419 rows x 9 columns]\n"
     ]
    }
   ],
   "source": [
    "# Initialize a dictionary to store the win streaks for each team\n",
    "win_streaks = {team: 0 for team in df['team1'].unique()}\n",
    "\n",
    "# Initialize the new columns with zeros\n",
    "df['win_streak_team1'] = 0\n",
    "df['win_streak_team2'] = 0\n",
    "\n",
    "# Reset the index of the DataFrame\n",
    "df = df.reset_index(drop=True)\n",
    "\n",
    "# Calculate the win streaks\n",
    "for i in df.index:\n",
    "    # If it's the start of a new season, reset the win streaks\n",
    "    if i == 0 or df.loc[i, 'season'] != df.loc[i-1, 'season']:\n",
    "        win_streaks = {team: 0 for team in df['team1'].unique()}\n",
    "    \n",
    "    # Update the win streaks in the DataFrame\n",
    "    df.at[i, 'win_streak_team1'] = win_streaks[df.loc[i, 'team1']]\n",
    "    df.at[i, 'win_streak_team2'] = win_streaks[df.loc[i, 'team2']]\n",
    "    \n",
    "    # If team1 won the match, increment their win streak\n",
    "    if df.loc[i, 'winner'] == df.loc[i, 'team1']:\n",
    "        win_streaks[df.loc[i, 'team1']] += 1\n",
    "        win_streaks[df.loc[i, 'team2']] -= 1\n",
    "    # If team2 won the match, increment their win streak\n",
    "    elif df.loc[i, 'winner'] == df.loc[i, 'team2']:\n",
    "        win_streaks[df.loc[i, 'team2']] += 1\n",
    "        win_streaks[df.loc[i, 'team1']] -= 1\n",
    "\n",
    "df['win_streak_team1'] = df['win_streak_team1'].astype(int)\n",
    "df['win_streak_team2'] = df['win_streak_team2'].astype(int)\n",
    "print(df)"
   ]
  },
  {
   "cell_type": "code",
   "execution_count": 1120,
   "id": "b55c6ade-192c-438f-9797-423fa74f9748",
   "metadata": {
    "scrolled": true
   },
   "outputs": [
    {
     "name": "stdout",
     "output_type": "stream",
     "text": [
      "Index(['venue', 'team1', 'team2', 'toss_winner', 'toss_decision', 'winner',\n",
      "       'season', 'win_streak_team1', 'win_streak_team2'],\n",
      "      dtype='object')\n"
     ]
    }
   ],
   "source": [
    "print(df.columns)"
   ]
  },
  {
   "cell_type": "code",
   "execution_count": 1121,
   "id": "130287ae",
   "metadata": {},
   "outputs": [
    {
     "name": "stdout",
     "output_type": "stream",
     "text": [
      "     venue  team1  team2  toss_winner  toss_decision  winner  season  \\\n",
      "0       13      7      0            7              0       0       7   \n",
      "1       14      1      6            6              1       6       7   \n",
      "2        5      9      3            9              1       3       7   \n",
      "3       21      4      8            8              0       8       7   \n",
      "4       16      5      2            5              1       2       7   \n",
      "..     ...    ...    ...          ...            ...     ...     ...   \n",
      "414     23      5      8            5              2       5       0   \n",
      "415      5      6      3            6              2       3       0   \n",
      "416      4      0      5            0              2       0       0   \n",
      "417     23      0      6            0              2       6       0   \n",
      "418     12      3      6            3              2       3       0   \n",
      "\n",
      "     win_streak_team1  win_streak_team2  \n",
      "0                   0                 0  \n",
      "1                   0                 0  \n",
      "2                   0                 0  \n",
      "3                   0                 0  \n",
      "4                   0                 0  \n",
      "..                ...               ...  \n",
      "414                 4                 0  \n",
      "415                 3                 6  \n",
      "416                 0                 5  \n",
      "417                 1                 2  \n",
      "418                 7                 3  \n",
      "\n",
      "[419 rows x 9 columns]\n"
     ]
    }
   ],
   "source": [
    "from sklearn.preprocessing import LabelEncoder\n",
    "\n",
    "# Create an instance of LabelEncoder\n",
    "lab = LabelEncoder()\n",
    "\n",
    "# Perform label encoding on the 'my_column' column\n",
    "df['team1'] = lab.fit_transform(df['team1'])\n",
    "df['team2'] = lab.fit_transform(df['team2'])\n",
    "df['toss_winner'] = lab.fit_transform(df['toss_winner'])\n",
    "df['toss_decision'] = lab.fit_transform(df['toss_decision'])\n",
    "df['venue'] = lab.fit_transform(df['venue'])\n",
    "df['winner'] = lab.fit_transform(df['winner'])\n",
    "df['season'] = lab.fit_transform(df['season'])\n",
    "\n",
    "print(df)"
   ]
  },
  {
   "cell_type": "code",
   "execution_count": 1122,
   "id": "1a7e6ae7",
   "metadata": {},
   "outputs": [
    {
     "name": "stdout",
     "output_type": "stream",
     "text": [
      "                     venue     team1     team2  toss_winner  toss_decision  \\\n",
      "venue             1.000000  0.015212  0.372577     0.132193      -0.085119   \n",
      "team1             0.015212  1.000000 -0.135912     0.448283      -0.036604   \n",
      "team2             0.372577 -0.135912  1.000000     0.434602       0.000927   \n",
      "toss_winner       0.132193  0.448283  0.434602     1.000000      -0.062867   \n",
      "toss_decision    -0.085119 -0.036604  0.000927    -0.062867       1.000000   \n",
      "winner            0.182528  0.377160  0.494942     0.498672       0.009624   \n",
      "season            0.036199 -0.032429 -0.064513    -0.000030      -0.196573   \n",
      "win_streak_team1  0.001823 -0.113800 -0.042883    -0.181215       0.065306   \n",
      "win_streak_team2  0.051025 -0.003778 -0.074532    -0.033170      -0.065942   \n",
      "\n",
      "                    winner    season  win_streak_team1  win_streak_team2  \n",
      "venue             0.182528  0.036199          0.001823          0.051025  \n",
      "team1             0.377160 -0.032429         -0.113800         -0.003778  \n",
      "team2             0.494942 -0.064513         -0.042883         -0.074532  \n",
      "toss_winner       0.498672 -0.000030         -0.181215         -0.033170  \n",
      "toss_decision     0.009624 -0.196573          0.065306         -0.065942  \n",
      "winner            1.000000 -0.086496         -0.074191         -0.095206  \n",
      "season           -0.086496  1.000000         -0.049003          0.009361  \n",
      "win_streak_team1 -0.074191 -0.049003          1.000000         -0.013072  \n",
      "win_streak_team2 -0.095206  0.009361         -0.013072          1.000000  \n"
     ]
    }
   ],
   "source": [
    "import seaborn as sns\n",
    "# Calculate the correlation matrix\n",
    "corr_matrix = df.corr()\n",
    "\n",
    "# Display the correlation matrix\n",
    "print(corr_matrix)"
   ]
  },
  {
   "cell_type": "code",
   "execution_count": 1123,
   "id": "0c75c17b-fa65-462d-a3e2-47541666d76e",
   "metadata": {},
   "outputs": [],
   "source": [
    "X = df.drop(columns=['winner','season'],axis=1)\n",
    "Y = df['winner']"
   ]
  },
  {
   "cell_type": "code",
   "execution_count": 1124,
   "id": "eb33f4af-c1ca-4200-aaed-0104d373be41",
   "metadata": {},
   "outputs": [
    {
     "name": "stdout",
     "output_type": "stream",
     "text": [
      "     venue  team1  team2  toss_winner  toss_decision  win_streak_team1  \\\n",
      "0       13      7      0            7              0                 0   \n",
      "1       14      1      6            6              1                 0   \n",
      "2        5      9      3            9              1                 0   \n",
      "3       21      4      8            8              0                 0   \n",
      "4       16      5      2            5              1                 0   \n",
      "..     ...    ...    ...          ...            ...               ...   \n",
      "414     23      5      8            5              2                 4   \n",
      "415      5      6      3            6              2                 3   \n",
      "416      4      0      5            0              2                 0   \n",
      "417     23      0      6            0              2                 1   \n",
      "418     12      3      6            3              2                 7   \n",
      "\n",
      "     win_streak_team2  \n",
      "0                   0  \n",
      "1                   0  \n",
      "2                   0  \n",
      "3                   0  \n",
      "4                   0  \n",
      "..                ...  \n",
      "414                 0  \n",
      "415                 6  \n",
      "416                 5  \n",
      "417                 2  \n",
      "418                 3  \n",
      "\n",
      "[419 rows x 7 columns]\n"
     ]
    }
   ],
   "source": [
    "print(X)"
   ]
  },
  {
   "cell_type": "code",
   "execution_count": 1125,
   "id": "611a71c4-be09-4561-aa93-1d4283fc27ed",
   "metadata": {},
   "outputs": [
    {
     "name": "stdout",
     "output_type": "stream",
     "text": [
      "0      0\n",
      "1      6\n",
      "2      3\n",
      "3      8\n",
      "4      2\n",
      "      ..\n",
      "414    5\n",
      "415    3\n",
      "416    0\n",
      "417    6\n",
      "418    3\n",
      "Name: winner, Length: 419, dtype: int64\n"
     ]
    }
   ],
   "source": [
    "print(Y)"
   ]
  },
  {
   "cell_type": "code",
   "execution_count": 1126,
   "id": "6c730cbc",
   "metadata": {},
   "outputs": [],
   "source": [
    "X_train,X_test,y_train,y_test = train_test_split(X,Y, test_size=0.2, random_state=1) #stratify=Y"
   ]
  },
  {
   "cell_type": "code",
   "execution_count": 1127,
   "id": "c17301a3",
   "metadata": {},
   "outputs": [],
   "source": [
    "#knn"
   ]
  },
  {
   "cell_type": "code",
   "execution_count": 1128,
   "id": "400d7845-95d8-43a0-b090-09ec97bf20f0",
   "metadata": {},
   "outputs": [],
   "source": [
    "knn = KNeighborsClassifier(n_neighbors=5)"
   ]
  },
  {
   "cell_type": "code",
   "execution_count": 1129,
   "id": "ef7b939f-447d-4e7a-b068-918fa617b966",
   "metadata": {},
   "outputs": [
    {
     "data": {
      "text/html": [
       "<style>#sk-container-id-151 {color: black;background-color: white;}#sk-container-id-151 pre{padding: 0;}#sk-container-id-151 div.sk-toggleable {background-color: white;}#sk-container-id-151 label.sk-toggleable__label {cursor: pointer;display: block;width: 100%;margin-bottom: 0;padding: 0.3em;box-sizing: border-box;text-align: center;}#sk-container-id-151 label.sk-toggleable__label-arrow:before {content: \"▸\";float: left;margin-right: 0.25em;color: #696969;}#sk-container-id-151 label.sk-toggleable__label-arrow:hover:before {color: black;}#sk-container-id-151 div.sk-estimator:hover label.sk-toggleable__label-arrow:before {color: black;}#sk-container-id-151 div.sk-toggleable__content {max-height: 0;max-width: 0;overflow: hidden;text-align: left;background-color: #f0f8ff;}#sk-container-id-151 div.sk-toggleable__content pre {margin: 0.2em;color: black;border-radius: 0.25em;background-color: #f0f8ff;}#sk-container-id-151 input.sk-toggleable__control:checked~div.sk-toggleable__content {max-height: 200px;max-width: 100%;overflow: auto;}#sk-container-id-151 input.sk-toggleable__control:checked~label.sk-toggleable__label-arrow:before {content: \"▾\";}#sk-container-id-151 div.sk-estimator input.sk-toggleable__control:checked~label.sk-toggleable__label {background-color: #d4ebff;}#sk-container-id-151 div.sk-label input.sk-toggleable__control:checked~label.sk-toggleable__label {background-color: #d4ebff;}#sk-container-id-151 input.sk-hidden--visually {border: 0;clip: rect(1px 1px 1px 1px);clip: rect(1px, 1px, 1px, 1px);height: 1px;margin: -1px;overflow: hidden;padding: 0;position: absolute;width: 1px;}#sk-container-id-151 div.sk-estimator {font-family: monospace;background-color: #f0f8ff;border: 1px dotted black;border-radius: 0.25em;box-sizing: border-box;margin-bottom: 0.5em;}#sk-container-id-151 div.sk-estimator:hover {background-color: #d4ebff;}#sk-container-id-151 div.sk-parallel-item::after {content: \"\";width: 100%;border-bottom: 1px solid gray;flex-grow: 1;}#sk-container-id-151 div.sk-label:hover label.sk-toggleable__label {background-color: #d4ebff;}#sk-container-id-151 div.sk-serial::before {content: \"\";position: absolute;border-left: 1px solid gray;box-sizing: border-box;top: 0;bottom: 0;left: 50%;z-index: 0;}#sk-container-id-151 div.sk-serial {display: flex;flex-direction: column;align-items: center;background-color: white;padding-right: 0.2em;padding-left: 0.2em;position: relative;}#sk-container-id-151 div.sk-item {position: relative;z-index: 1;}#sk-container-id-151 div.sk-parallel {display: flex;align-items: stretch;justify-content: center;background-color: white;position: relative;}#sk-container-id-151 div.sk-item::before, #sk-container-id-151 div.sk-parallel-item::before {content: \"\";position: absolute;border-left: 1px solid gray;box-sizing: border-box;top: 0;bottom: 0;left: 50%;z-index: -1;}#sk-container-id-151 div.sk-parallel-item {display: flex;flex-direction: column;z-index: 1;position: relative;background-color: white;}#sk-container-id-151 div.sk-parallel-item:first-child::after {align-self: flex-end;width: 50%;}#sk-container-id-151 div.sk-parallel-item:last-child::after {align-self: flex-start;width: 50%;}#sk-container-id-151 div.sk-parallel-item:only-child::after {width: 0;}#sk-container-id-151 div.sk-dashed-wrapped {border: 1px dashed gray;margin: 0 0.4em 0.5em 0.4em;box-sizing: border-box;padding-bottom: 0.4em;background-color: white;}#sk-container-id-151 div.sk-label label {font-family: monospace;font-weight: bold;display: inline-block;line-height: 1.2em;}#sk-container-id-151 div.sk-label-container {text-align: center;}#sk-container-id-151 div.sk-container {/* jupyter's `normalize.less` sets `[hidden] { display: none; }` but bootstrap.min.css set `[hidden] { display: none !important; }` so we also need the `!important` here to be able to override the default hidden behavior on the sphinx rendered scikit-learn.org. See: https://github.com/scikit-learn/scikit-learn/issues/21755 */display: inline-block !important;position: relative;}#sk-container-id-151 div.sk-text-repr-fallback {display: none;}</style><div id=\"sk-container-id-151\" class=\"sk-top-container\"><div class=\"sk-text-repr-fallback\"><pre>KNeighborsClassifier()</pre><b>In a Jupyter environment, please rerun this cell to show the HTML representation or trust the notebook. <br />On GitHub, the HTML representation is unable to render, please try loading this page with nbviewer.org.</b></div><div class=\"sk-container\" hidden><div class=\"sk-item\"><div class=\"sk-estimator sk-toggleable\"><input class=\"sk-toggleable__control sk-hidden--visually\" id=\"sk-estimator-id-151\" type=\"checkbox\" checked><label for=\"sk-estimator-id-151\" class=\"sk-toggleable__label sk-toggleable__label-arrow\">KNeighborsClassifier</label><div class=\"sk-toggleable__content\"><pre>KNeighborsClassifier()</pre></div></div></div></div></div>"
      ],
      "text/plain": [
       "KNeighborsClassifier()"
      ]
     },
     "execution_count": 1129,
     "metadata": {},
     "output_type": "execute_result"
    }
   ],
   "source": [
    "knn.fit(X_train, y_train)"
   ]
  },
  {
   "cell_type": "code",
   "execution_count": 1130,
   "id": "b46c640f-4e4b-443e-8674-db20209fb35a",
   "metadata": {},
   "outputs": [],
   "source": [
    "y_pred = knn.predict(X_test)"
   ]
  },
  {
   "cell_type": "code",
   "execution_count": 1131,
   "id": "c3894691-424b-47b6-9e21-3ff76b777a7e",
   "metadata": {},
   "outputs": [
    {
     "name": "stdout",
     "output_type": "stream",
     "text": [
      "Accuracy score of test data: 0.36\n"
     ]
    }
   ],
   "source": [
    "accuracy = accuracy_score(y_pred, y_test)\n",
    "print(f\"Accuracy score of test data: {accuracy:.2f}\")"
   ]
  },
  {
   "cell_type": "code",
   "execution_count": 1132,
   "id": "682c3f25-51c1-4954-b082-f66f7a1a2b23",
   "metadata": {},
   "outputs": [
    {
     "name": "stdout",
     "output_type": "stream",
     "text": [
      "Accuracy score of train data = 0.5701492537313433\n"
     ]
    }
   ],
   "source": [
    "train_pred = knn.predict(X_train)\n",
    "accuracy = accuracy_score(train_pred, y_train)\n",
    "print(\"Accuracy score of train data = {}\".format(accuracy))"
   ]
  },
  {
   "cell_type": "code",
   "execution_count": 1133,
   "id": "213926fe-c681-4b71-bc60-847c79ccb0a7",
   "metadata": {},
   "outputs": [],
   "source": [
    "#Decison Tree"
   ]
  },
  {
   "cell_type": "code",
   "execution_count": null,
   "id": "3b468428-43da-41cf-83e4-0bd4a6171849",
   "metadata": {},
   "outputs": [],
   "source": []
  },
  {
   "cell_type": "code",
   "execution_count": 1146,
   "id": "e4c218c2-212f-42f5-b366-1865fd4c2113",
   "metadata": {},
   "outputs": [
    {
     "data": {
      "text/html": [
       "<style>#sk-container-id-156 {color: black;background-color: white;}#sk-container-id-156 pre{padding: 0;}#sk-container-id-156 div.sk-toggleable {background-color: white;}#sk-container-id-156 label.sk-toggleable__label {cursor: pointer;display: block;width: 100%;margin-bottom: 0;padding: 0.3em;box-sizing: border-box;text-align: center;}#sk-container-id-156 label.sk-toggleable__label-arrow:before {content: \"▸\";float: left;margin-right: 0.25em;color: #696969;}#sk-container-id-156 label.sk-toggleable__label-arrow:hover:before {color: black;}#sk-container-id-156 div.sk-estimator:hover label.sk-toggleable__label-arrow:before {color: black;}#sk-container-id-156 div.sk-toggleable__content {max-height: 0;max-width: 0;overflow: hidden;text-align: left;background-color: #f0f8ff;}#sk-container-id-156 div.sk-toggleable__content pre {margin: 0.2em;color: black;border-radius: 0.25em;background-color: #f0f8ff;}#sk-container-id-156 input.sk-toggleable__control:checked~div.sk-toggleable__content {max-height: 200px;max-width: 100%;overflow: auto;}#sk-container-id-156 input.sk-toggleable__control:checked~label.sk-toggleable__label-arrow:before {content: \"▾\";}#sk-container-id-156 div.sk-estimator input.sk-toggleable__control:checked~label.sk-toggleable__label {background-color: #d4ebff;}#sk-container-id-156 div.sk-label input.sk-toggleable__control:checked~label.sk-toggleable__label {background-color: #d4ebff;}#sk-container-id-156 input.sk-hidden--visually {border: 0;clip: rect(1px 1px 1px 1px);clip: rect(1px, 1px, 1px, 1px);height: 1px;margin: -1px;overflow: hidden;padding: 0;position: absolute;width: 1px;}#sk-container-id-156 div.sk-estimator {font-family: monospace;background-color: #f0f8ff;border: 1px dotted black;border-radius: 0.25em;box-sizing: border-box;margin-bottom: 0.5em;}#sk-container-id-156 div.sk-estimator:hover {background-color: #d4ebff;}#sk-container-id-156 div.sk-parallel-item::after {content: \"\";width: 100%;border-bottom: 1px solid gray;flex-grow: 1;}#sk-container-id-156 div.sk-label:hover label.sk-toggleable__label {background-color: #d4ebff;}#sk-container-id-156 div.sk-serial::before {content: \"\";position: absolute;border-left: 1px solid gray;box-sizing: border-box;top: 0;bottom: 0;left: 50%;z-index: 0;}#sk-container-id-156 div.sk-serial {display: flex;flex-direction: column;align-items: center;background-color: white;padding-right: 0.2em;padding-left: 0.2em;position: relative;}#sk-container-id-156 div.sk-item {position: relative;z-index: 1;}#sk-container-id-156 div.sk-parallel {display: flex;align-items: stretch;justify-content: center;background-color: white;position: relative;}#sk-container-id-156 div.sk-item::before, #sk-container-id-156 div.sk-parallel-item::before {content: \"\";position: absolute;border-left: 1px solid gray;box-sizing: border-box;top: 0;bottom: 0;left: 50%;z-index: -1;}#sk-container-id-156 div.sk-parallel-item {display: flex;flex-direction: column;z-index: 1;position: relative;background-color: white;}#sk-container-id-156 div.sk-parallel-item:first-child::after {align-self: flex-end;width: 50%;}#sk-container-id-156 div.sk-parallel-item:last-child::after {align-self: flex-start;width: 50%;}#sk-container-id-156 div.sk-parallel-item:only-child::after {width: 0;}#sk-container-id-156 div.sk-dashed-wrapped {border: 1px dashed gray;margin: 0 0.4em 0.5em 0.4em;box-sizing: border-box;padding-bottom: 0.4em;background-color: white;}#sk-container-id-156 div.sk-label label {font-family: monospace;font-weight: bold;display: inline-block;line-height: 1.2em;}#sk-container-id-156 div.sk-label-container {text-align: center;}#sk-container-id-156 div.sk-container {/* jupyter's `normalize.less` sets `[hidden] { display: none; }` but bootstrap.min.css set `[hidden] { display: none !important; }` so we also need the `!important` here to be able to override the default hidden behavior on the sphinx rendered scikit-learn.org. See: https://github.com/scikit-learn/scikit-learn/issues/21755 */display: inline-block !important;position: relative;}#sk-container-id-156 div.sk-text-repr-fallback {display: none;}</style><div id=\"sk-container-id-156\" class=\"sk-top-container\"><div class=\"sk-text-repr-fallback\"><pre>DecisionTreeClassifier(max_depth=11)</pre><b>In a Jupyter environment, please rerun this cell to show the HTML representation or trust the notebook. <br />On GitHub, the HTML representation is unable to render, please try loading this page with nbviewer.org.</b></div><div class=\"sk-container\" hidden><div class=\"sk-item\"><div class=\"sk-estimator sk-toggleable\"><input class=\"sk-toggleable__control sk-hidden--visually\" id=\"sk-estimator-id-156\" type=\"checkbox\" checked><label for=\"sk-estimator-id-156\" class=\"sk-toggleable__label sk-toggleable__label-arrow\">DecisionTreeClassifier</label><div class=\"sk-toggleable__content\"><pre>DecisionTreeClassifier(max_depth=11)</pre></div></div></div></div></div>"
      ],
      "text/plain": [
       "DecisionTreeClassifier(max_depth=11)"
      ]
     },
     "execution_count": 1146,
     "metadata": {},
     "output_type": "execute_result"
    }
   ],
   "source": [
    "tree_classifier = DecisionTreeClassifier(max_depth=11, criterion='gini')\n",
    "tree_classifier.fit(X_train, y_train)"
   ]
  },
  {
   "cell_type": "code",
   "execution_count": 1147,
   "id": "cd910ca4",
   "metadata": {},
   "outputs": [
    {
     "name": "stdout",
     "output_type": "stream",
     "text": [
      "Accuracy score of train data = 0.8776119402985074\n"
     ]
    }
   ],
   "source": [
    "train_pred = tree_classifier.predict(X_train)\n",
    "accuracy = accuracy_score(train_pred, y_train)\n",
    "print(\"Accuracy score of train data = {}\".format(accuracy))"
   ]
  },
  {
   "cell_type": "code",
   "execution_count": 1148,
   "id": "c91f24ad-42bb-4b53-9093-39ec7618a3a4",
   "metadata": {},
   "outputs": [
    {
     "name": "stdout",
     "output_type": "stream",
     "text": [
      "Accuracy of test data: 0.48\n"
     ]
    }
   ],
   "source": [
    "y_pred = tree_classifier.predict(X_test)\n",
    "accuracy = accuracy_score(y_test, y_pred)\n",
    "print(f\"Accuracy of test data: {accuracy:.2f}\")"
   ]
  },
  {
   "cell_type": "code",
   "execution_count": 1149,
   "id": "f78b4cd0-b77e-401f-b46b-3f41a0d162f4",
   "metadata": {},
   "outputs": [],
   "source": [
    "#random forest"
   ]
  },
  {
   "cell_type": "code",
   "execution_count": 1150,
   "id": "8e640971-d181-4068-9505-a4a039597694",
   "metadata": {},
   "outputs": [
    {
     "data": {
      "text/html": [
       "<style>#sk-container-id-157 {color: black;background-color: white;}#sk-container-id-157 pre{padding: 0;}#sk-container-id-157 div.sk-toggleable {background-color: white;}#sk-container-id-157 label.sk-toggleable__label {cursor: pointer;display: block;width: 100%;margin-bottom: 0;padding: 0.3em;box-sizing: border-box;text-align: center;}#sk-container-id-157 label.sk-toggleable__label-arrow:before {content: \"▸\";float: left;margin-right: 0.25em;color: #696969;}#sk-container-id-157 label.sk-toggleable__label-arrow:hover:before {color: black;}#sk-container-id-157 div.sk-estimator:hover label.sk-toggleable__label-arrow:before {color: black;}#sk-container-id-157 div.sk-toggleable__content {max-height: 0;max-width: 0;overflow: hidden;text-align: left;background-color: #f0f8ff;}#sk-container-id-157 div.sk-toggleable__content pre {margin: 0.2em;color: black;border-radius: 0.25em;background-color: #f0f8ff;}#sk-container-id-157 input.sk-toggleable__control:checked~div.sk-toggleable__content {max-height: 200px;max-width: 100%;overflow: auto;}#sk-container-id-157 input.sk-toggleable__control:checked~label.sk-toggleable__label-arrow:before {content: \"▾\";}#sk-container-id-157 div.sk-estimator input.sk-toggleable__control:checked~label.sk-toggleable__label {background-color: #d4ebff;}#sk-container-id-157 div.sk-label input.sk-toggleable__control:checked~label.sk-toggleable__label {background-color: #d4ebff;}#sk-container-id-157 input.sk-hidden--visually {border: 0;clip: rect(1px 1px 1px 1px);clip: rect(1px, 1px, 1px, 1px);height: 1px;margin: -1px;overflow: hidden;padding: 0;position: absolute;width: 1px;}#sk-container-id-157 div.sk-estimator {font-family: monospace;background-color: #f0f8ff;border: 1px dotted black;border-radius: 0.25em;box-sizing: border-box;margin-bottom: 0.5em;}#sk-container-id-157 div.sk-estimator:hover {background-color: #d4ebff;}#sk-container-id-157 div.sk-parallel-item::after {content: \"\";width: 100%;border-bottom: 1px solid gray;flex-grow: 1;}#sk-container-id-157 div.sk-label:hover label.sk-toggleable__label {background-color: #d4ebff;}#sk-container-id-157 div.sk-serial::before {content: \"\";position: absolute;border-left: 1px solid gray;box-sizing: border-box;top: 0;bottom: 0;left: 50%;z-index: 0;}#sk-container-id-157 div.sk-serial {display: flex;flex-direction: column;align-items: center;background-color: white;padding-right: 0.2em;padding-left: 0.2em;position: relative;}#sk-container-id-157 div.sk-item {position: relative;z-index: 1;}#sk-container-id-157 div.sk-parallel {display: flex;align-items: stretch;justify-content: center;background-color: white;position: relative;}#sk-container-id-157 div.sk-item::before, #sk-container-id-157 div.sk-parallel-item::before {content: \"\";position: absolute;border-left: 1px solid gray;box-sizing: border-box;top: 0;bottom: 0;left: 50%;z-index: -1;}#sk-container-id-157 div.sk-parallel-item {display: flex;flex-direction: column;z-index: 1;position: relative;background-color: white;}#sk-container-id-157 div.sk-parallel-item:first-child::after {align-self: flex-end;width: 50%;}#sk-container-id-157 div.sk-parallel-item:last-child::after {align-self: flex-start;width: 50%;}#sk-container-id-157 div.sk-parallel-item:only-child::after {width: 0;}#sk-container-id-157 div.sk-dashed-wrapped {border: 1px dashed gray;margin: 0 0.4em 0.5em 0.4em;box-sizing: border-box;padding-bottom: 0.4em;background-color: white;}#sk-container-id-157 div.sk-label label {font-family: monospace;font-weight: bold;display: inline-block;line-height: 1.2em;}#sk-container-id-157 div.sk-label-container {text-align: center;}#sk-container-id-157 div.sk-container {/* jupyter's `normalize.less` sets `[hidden] { display: none; }` but bootstrap.min.css set `[hidden] { display: none !important; }` so we also need the `!important` here to be able to override the default hidden behavior on the sphinx rendered scikit-learn.org. See: https://github.com/scikit-learn/scikit-learn/issues/21755 */display: inline-block !important;position: relative;}#sk-container-id-157 div.sk-text-repr-fallback {display: none;}</style><div id=\"sk-container-id-157\" class=\"sk-top-container\"><div class=\"sk-text-repr-fallback\"><pre>RandomForestClassifier(max_depth=9, random_state=42)</pre><b>In a Jupyter environment, please rerun this cell to show the HTML representation or trust the notebook. <br />On GitHub, the HTML representation is unable to render, please try loading this page with nbviewer.org.</b></div><div class=\"sk-container\" hidden><div class=\"sk-item\"><div class=\"sk-estimator sk-toggleable\"><input class=\"sk-toggleable__control sk-hidden--visually\" id=\"sk-estimator-id-157\" type=\"checkbox\" checked><label for=\"sk-estimator-id-157\" class=\"sk-toggleable__label sk-toggleable__label-arrow\">RandomForestClassifier</label><div class=\"sk-toggleable__content\"><pre>RandomForestClassifier(max_depth=9, random_state=42)</pre></div></div></div></div></div>"
      ],
      "text/plain": [
       "RandomForestClassifier(max_depth=9, random_state=42)"
      ]
     },
     "execution_count": 1150,
     "metadata": {},
     "output_type": "execute_result"
    }
   ],
   "source": [
    "rf_classifier = RandomForestClassifier(n_estimators=100, max_depth=9, random_state=42)\n",
    "rf_classifier.fit(X_train, y_train)"
   ]
  },
  {
   "cell_type": "code",
   "execution_count": 1151,
   "id": "a24d5203",
   "metadata": {},
   "outputs": [
    {
     "name": "stdout",
     "output_type": "stream",
     "text": [
      "Accuracy score of train data = 0.9611940298507463\n"
     ]
    }
   ],
   "source": [
    "train_pred = rf_classifier.predict(X_train)\n",
    "accuracy = accuracy_score(train_pred, y_train)\n",
    "print(\"Accuracy score of train data = {}\".format(accuracy))"
   ]
  },
  {
   "cell_type": "code",
   "execution_count": 1152,
   "id": "e5a352e8",
   "metadata": {},
   "outputs": [],
   "source": [
    "y_pred = rf_classifier.predict(X_test)"
   ]
  },
  {
   "cell_type": "code",
   "execution_count": 1153,
   "id": "340f8697",
   "metadata": {},
   "outputs": [
    {
     "name": "stdout",
     "output_type": "stream",
     "text": [
      "Accuracy of test data: 0.58\n"
     ]
    }
   ],
   "source": [
    "accuracy = accuracy_score(y_test, y_pred)\n",
    "print(f\"Accuracy of test data: {accuracy:.2f}\")"
   ]
  },
  {
   "cell_type": "code",
   "execution_count": 1154,
   "id": "91b21f25-0e0a-4b17-96cb-0b98ae8ec752",
   "metadata": {},
   "outputs": [],
   "source": [
    "# SVM Poly"
   ]
  },
  {
   "cell_type": "code",
   "execution_count": 1155,
   "id": "65a6f1ee-a35d-4d79-92a4-969fc944743b",
   "metadata": {},
   "outputs": [],
   "source": [
    "classifier = svm.SVC(kernel='poly' , degree =10 , gamma='scale')"
   ]
  },
  {
   "cell_type": "code",
   "execution_count": 1156,
   "id": "65ae6ba7-d6d5-431f-88ef-6fe21bebcdb3",
   "metadata": {},
   "outputs": [],
   "source": [
    "#Model training using test data"
   ]
  },
  {
   "cell_type": "code",
   "execution_count": 1157,
   "id": "fd6e82aa-8e9c-42da-80ae-8920769ccb85",
   "metadata": {},
   "outputs": [
    {
     "data": {
      "text/html": [
       "<style>#sk-container-id-158 {color: black;background-color: white;}#sk-container-id-158 pre{padding: 0;}#sk-container-id-158 div.sk-toggleable {background-color: white;}#sk-container-id-158 label.sk-toggleable__label {cursor: pointer;display: block;width: 100%;margin-bottom: 0;padding: 0.3em;box-sizing: border-box;text-align: center;}#sk-container-id-158 label.sk-toggleable__label-arrow:before {content: \"▸\";float: left;margin-right: 0.25em;color: #696969;}#sk-container-id-158 label.sk-toggleable__label-arrow:hover:before {color: black;}#sk-container-id-158 div.sk-estimator:hover label.sk-toggleable__label-arrow:before {color: black;}#sk-container-id-158 div.sk-toggleable__content {max-height: 0;max-width: 0;overflow: hidden;text-align: left;background-color: #f0f8ff;}#sk-container-id-158 div.sk-toggleable__content pre {margin: 0.2em;color: black;border-radius: 0.25em;background-color: #f0f8ff;}#sk-container-id-158 input.sk-toggleable__control:checked~div.sk-toggleable__content {max-height: 200px;max-width: 100%;overflow: auto;}#sk-container-id-158 input.sk-toggleable__control:checked~label.sk-toggleable__label-arrow:before {content: \"▾\";}#sk-container-id-158 div.sk-estimator input.sk-toggleable__control:checked~label.sk-toggleable__label {background-color: #d4ebff;}#sk-container-id-158 div.sk-label input.sk-toggleable__control:checked~label.sk-toggleable__label {background-color: #d4ebff;}#sk-container-id-158 input.sk-hidden--visually {border: 0;clip: rect(1px 1px 1px 1px);clip: rect(1px, 1px, 1px, 1px);height: 1px;margin: -1px;overflow: hidden;padding: 0;position: absolute;width: 1px;}#sk-container-id-158 div.sk-estimator {font-family: monospace;background-color: #f0f8ff;border: 1px dotted black;border-radius: 0.25em;box-sizing: border-box;margin-bottom: 0.5em;}#sk-container-id-158 div.sk-estimator:hover {background-color: #d4ebff;}#sk-container-id-158 div.sk-parallel-item::after {content: \"\";width: 100%;border-bottom: 1px solid gray;flex-grow: 1;}#sk-container-id-158 div.sk-label:hover label.sk-toggleable__label {background-color: #d4ebff;}#sk-container-id-158 div.sk-serial::before {content: \"\";position: absolute;border-left: 1px solid gray;box-sizing: border-box;top: 0;bottom: 0;left: 50%;z-index: 0;}#sk-container-id-158 div.sk-serial {display: flex;flex-direction: column;align-items: center;background-color: white;padding-right: 0.2em;padding-left: 0.2em;position: relative;}#sk-container-id-158 div.sk-item {position: relative;z-index: 1;}#sk-container-id-158 div.sk-parallel {display: flex;align-items: stretch;justify-content: center;background-color: white;position: relative;}#sk-container-id-158 div.sk-item::before, #sk-container-id-158 div.sk-parallel-item::before {content: \"\";position: absolute;border-left: 1px solid gray;box-sizing: border-box;top: 0;bottom: 0;left: 50%;z-index: -1;}#sk-container-id-158 div.sk-parallel-item {display: flex;flex-direction: column;z-index: 1;position: relative;background-color: white;}#sk-container-id-158 div.sk-parallel-item:first-child::after {align-self: flex-end;width: 50%;}#sk-container-id-158 div.sk-parallel-item:last-child::after {align-self: flex-start;width: 50%;}#sk-container-id-158 div.sk-parallel-item:only-child::after {width: 0;}#sk-container-id-158 div.sk-dashed-wrapped {border: 1px dashed gray;margin: 0 0.4em 0.5em 0.4em;box-sizing: border-box;padding-bottom: 0.4em;background-color: white;}#sk-container-id-158 div.sk-label label {font-family: monospace;font-weight: bold;display: inline-block;line-height: 1.2em;}#sk-container-id-158 div.sk-label-container {text-align: center;}#sk-container-id-158 div.sk-container {/* jupyter's `normalize.less` sets `[hidden] { display: none; }` but bootstrap.min.css set `[hidden] { display: none !important; }` so we also need the `!important` here to be able to override the default hidden behavior on the sphinx rendered scikit-learn.org. See: https://github.com/scikit-learn/scikit-learn/issues/21755 */display: inline-block !important;position: relative;}#sk-container-id-158 div.sk-text-repr-fallback {display: none;}</style><div id=\"sk-container-id-158\" class=\"sk-top-container\"><div class=\"sk-text-repr-fallback\"><pre>SVC(degree=10, kernel=&#x27;poly&#x27;)</pre><b>In a Jupyter environment, please rerun this cell to show the HTML representation or trust the notebook. <br />On GitHub, the HTML representation is unable to render, please try loading this page with nbviewer.org.</b></div><div class=\"sk-container\" hidden><div class=\"sk-item\"><div class=\"sk-estimator sk-toggleable\"><input class=\"sk-toggleable__control sk-hidden--visually\" id=\"sk-estimator-id-158\" type=\"checkbox\" checked><label for=\"sk-estimator-id-158\" class=\"sk-toggleable__label sk-toggleable__label-arrow\">SVC</label><div class=\"sk-toggleable__content\"><pre>SVC(degree=10, kernel=&#x27;poly&#x27;)</pre></div></div></div></div></div>"
      ],
      "text/plain": [
       "SVC(degree=10, kernel='poly')"
      ]
     },
     "execution_count": 1157,
     "metadata": {},
     "output_type": "execute_result"
    }
   ],
   "source": [
    "classifier.fit(X_train, y_train)"
   ]
  },
  {
   "cell_type": "code",
   "execution_count": 1158,
   "id": "5c9c5939-16b5-46ad-ab62-c8697485fdad",
   "metadata": {},
   "outputs": [],
   "source": [
    "# Accuracy score on train data"
   ]
  },
  {
   "cell_type": "code",
   "execution_count": 1159,
   "id": "f591a8ac-afd0-4d10-90cd-e93316f0b24e",
   "metadata": {},
   "outputs": [],
   "source": [
    "train_pred = classifier.predict(X_train)\n",
    "accuracy = accuracy_score(train_pred, y_train)"
   ]
  },
  {
   "cell_type": "code",
   "execution_count": 1160,
   "id": "493093d3-2829-48be-8832-a4a0e33ecdd6",
   "metadata": {},
   "outputs": [
    {
     "name": "stdout",
     "output_type": "stream",
     "text": [
      "Accuracy score of train data = 0.6746268656716418\n"
     ]
    }
   ],
   "source": [
    "print(\"Accuracy score of train data = {}\".format(accuracy))"
   ]
  },
  {
   "cell_type": "code",
   "execution_count": 1161,
   "id": "b60ef416-a019-4474-b3a9-0f496b8fa4b0",
   "metadata": {},
   "outputs": [],
   "source": [
    "# Accuracy score on test data"
   ]
  },
  {
   "cell_type": "code",
   "execution_count": 1162,
   "id": "0cbb31a0-82b3-440a-8bb1-b66eb79e9f88",
   "metadata": {},
   "outputs": [],
   "source": [
    "test_pred = classifier.predict(X_test)\n",
    "accuracy2 = accuracy_score(test_pred, y_test)"
   ]
  },
  {
   "cell_type": "code",
   "execution_count": 1163,
   "id": "6a7da2ef-c5ad-4f3b-914b-f3182fac88ad",
   "metadata": {},
   "outputs": [
    {
     "name": "stdout",
     "output_type": "stream",
     "text": [
      "Accuracy score on test data = 0.2976190476190476\n"
     ]
    }
   ],
   "source": [
    "print('Accuracy score on test data = {}'.format(accuracy2))"
   ]
  },
  {
   "cell_type": "code",
   "execution_count": 1164,
   "id": "26ee90f6-86c7-4825-a3b8-0b86ffcdd9eb",
   "metadata": {},
   "outputs": [],
   "source": [
    "#SVM RBF"
   ]
  },
  {
   "cell_type": "code",
   "execution_count": 1165,
   "id": "44baef29-8542-43b3-9b1c-9a66efc68b34",
   "metadata": {},
   "outputs": [],
   "source": [
    "classifier = svm.SVC(kernel='rbf', gamma='scale')"
   ]
  },
  {
   "cell_type": "code",
   "execution_count": 1166,
   "id": "5a8510b7-b57e-41bd-ba25-2cbd46f1a5a0",
   "metadata": {},
   "outputs": [
    {
     "data": {
      "text/html": [
       "<style>#sk-container-id-159 {color: black;background-color: white;}#sk-container-id-159 pre{padding: 0;}#sk-container-id-159 div.sk-toggleable {background-color: white;}#sk-container-id-159 label.sk-toggleable__label {cursor: pointer;display: block;width: 100%;margin-bottom: 0;padding: 0.3em;box-sizing: border-box;text-align: center;}#sk-container-id-159 label.sk-toggleable__label-arrow:before {content: \"▸\";float: left;margin-right: 0.25em;color: #696969;}#sk-container-id-159 label.sk-toggleable__label-arrow:hover:before {color: black;}#sk-container-id-159 div.sk-estimator:hover label.sk-toggleable__label-arrow:before {color: black;}#sk-container-id-159 div.sk-toggleable__content {max-height: 0;max-width: 0;overflow: hidden;text-align: left;background-color: #f0f8ff;}#sk-container-id-159 div.sk-toggleable__content pre {margin: 0.2em;color: black;border-radius: 0.25em;background-color: #f0f8ff;}#sk-container-id-159 input.sk-toggleable__control:checked~div.sk-toggleable__content {max-height: 200px;max-width: 100%;overflow: auto;}#sk-container-id-159 input.sk-toggleable__control:checked~label.sk-toggleable__label-arrow:before {content: \"▾\";}#sk-container-id-159 div.sk-estimator input.sk-toggleable__control:checked~label.sk-toggleable__label {background-color: #d4ebff;}#sk-container-id-159 div.sk-label input.sk-toggleable__control:checked~label.sk-toggleable__label {background-color: #d4ebff;}#sk-container-id-159 input.sk-hidden--visually {border: 0;clip: rect(1px 1px 1px 1px);clip: rect(1px, 1px, 1px, 1px);height: 1px;margin: -1px;overflow: hidden;padding: 0;position: absolute;width: 1px;}#sk-container-id-159 div.sk-estimator {font-family: monospace;background-color: #f0f8ff;border: 1px dotted black;border-radius: 0.25em;box-sizing: border-box;margin-bottom: 0.5em;}#sk-container-id-159 div.sk-estimator:hover {background-color: #d4ebff;}#sk-container-id-159 div.sk-parallel-item::after {content: \"\";width: 100%;border-bottom: 1px solid gray;flex-grow: 1;}#sk-container-id-159 div.sk-label:hover label.sk-toggleable__label {background-color: #d4ebff;}#sk-container-id-159 div.sk-serial::before {content: \"\";position: absolute;border-left: 1px solid gray;box-sizing: border-box;top: 0;bottom: 0;left: 50%;z-index: 0;}#sk-container-id-159 div.sk-serial {display: flex;flex-direction: column;align-items: center;background-color: white;padding-right: 0.2em;padding-left: 0.2em;position: relative;}#sk-container-id-159 div.sk-item {position: relative;z-index: 1;}#sk-container-id-159 div.sk-parallel {display: flex;align-items: stretch;justify-content: center;background-color: white;position: relative;}#sk-container-id-159 div.sk-item::before, #sk-container-id-159 div.sk-parallel-item::before {content: \"\";position: absolute;border-left: 1px solid gray;box-sizing: border-box;top: 0;bottom: 0;left: 50%;z-index: -1;}#sk-container-id-159 div.sk-parallel-item {display: flex;flex-direction: column;z-index: 1;position: relative;background-color: white;}#sk-container-id-159 div.sk-parallel-item:first-child::after {align-self: flex-end;width: 50%;}#sk-container-id-159 div.sk-parallel-item:last-child::after {align-self: flex-start;width: 50%;}#sk-container-id-159 div.sk-parallel-item:only-child::after {width: 0;}#sk-container-id-159 div.sk-dashed-wrapped {border: 1px dashed gray;margin: 0 0.4em 0.5em 0.4em;box-sizing: border-box;padding-bottom: 0.4em;background-color: white;}#sk-container-id-159 div.sk-label label {font-family: monospace;font-weight: bold;display: inline-block;line-height: 1.2em;}#sk-container-id-159 div.sk-label-container {text-align: center;}#sk-container-id-159 div.sk-container {/* jupyter's `normalize.less` sets `[hidden] { display: none; }` but bootstrap.min.css set `[hidden] { display: none !important; }` so we also need the `!important` here to be able to override the default hidden behavior on the sphinx rendered scikit-learn.org. See: https://github.com/scikit-learn/scikit-learn/issues/21755 */display: inline-block !important;position: relative;}#sk-container-id-159 div.sk-text-repr-fallback {display: none;}</style><div id=\"sk-container-id-159\" class=\"sk-top-container\"><div class=\"sk-text-repr-fallback\"><pre>SVC()</pre><b>In a Jupyter environment, please rerun this cell to show the HTML representation or trust the notebook. <br />On GitHub, the HTML representation is unable to render, please try loading this page with nbviewer.org.</b></div><div class=\"sk-container\" hidden><div class=\"sk-item\"><div class=\"sk-estimator sk-toggleable\"><input class=\"sk-toggleable__control sk-hidden--visually\" id=\"sk-estimator-id-159\" type=\"checkbox\" checked><label for=\"sk-estimator-id-159\" class=\"sk-toggleable__label sk-toggleable__label-arrow\">SVC</label><div class=\"sk-toggleable__content\"><pre>SVC()</pre></div></div></div></div></div>"
      ],
      "text/plain": [
       "SVC()"
      ]
     },
     "execution_count": 1166,
     "metadata": {},
     "output_type": "execute_result"
    }
   ],
   "source": [
    "classifier.fit(X_train, y_train)"
   ]
  },
  {
   "cell_type": "code",
   "execution_count": 1167,
   "id": "8a1fb794",
   "metadata": {},
   "outputs": [],
   "source": [
    "train_pred = classifier.predict(X_train)\n",
    "accuracy = accuracy_score(train_pred, y_train)"
   ]
  },
  {
   "cell_type": "code",
   "execution_count": 1168,
   "id": "f9bd9e53",
   "metadata": {},
   "outputs": [
    {
     "name": "stdout",
     "output_type": "stream",
     "text": [
      "Accuracy score of train data = 0.43283582089552236\n"
     ]
    }
   ],
   "source": [
    "print(\"Accuracy score of train data = {}\".format(accuracy))"
   ]
  },
  {
   "cell_type": "code",
   "execution_count": 1169,
   "id": "191da280",
   "metadata": {},
   "outputs": [],
   "source": [
    "test_pred = classifier.predict(X_test)\n",
    "accuracy2 = accuracy_score(test_pred, y_test)"
   ]
  },
  {
   "cell_type": "code",
   "execution_count": 1170,
   "id": "6c6c82e7",
   "metadata": {},
   "outputs": [
    {
     "name": "stdout",
     "output_type": "stream",
     "text": [
      "Accuracy score on test data = 0.4166666666666667\n"
     ]
    }
   ],
   "source": [
    "print('Accuracy score on test data = {}'.format(accuracy2))"
   ]
  },
  {
   "cell_type": "code",
   "execution_count": 1171,
   "id": "d3b8272f",
   "metadata": {},
   "outputs": [],
   "source": [
    "#lightGBM"
   ]
  },
  {
   "cell_type": "code",
   "execution_count": 1172,
   "id": "320a2c96",
   "metadata": {},
   "outputs": [
    {
     "name": "stdout",
     "output_type": "stream",
     "text": [
      "[LightGBM] [Info] Auto-choosing col-wise multi-threading, the overhead of testing was 0.000088 seconds.\n",
      "You can set `force_col_wise=true` to remove the overhead.\n",
      "[LightGBM] [Info] Total Bins 83\n",
      "[LightGBM] [Info] Number of data points in the train set: 335, number of used features: 7\n",
      "[LightGBM] [Info] Start training from score -2.176544\n",
      "[LightGBM] [Info] Start training from score -2.317623\n",
      "[LightGBM] [Info] Start training from score -3.041542\n",
      "[LightGBM] [Info] Start training from score -1.985489\n",
      "[LightGBM] [Info] Start training from score -3.416235\n",
      "[LightGBM] [Info] Start training from score -1.942930\n",
      "[LightGBM] [Info] Start training from score -2.287770\n",
      "[LightGBM] [Info] Start training from score -2.230612\n",
      "[LightGBM] [Info] Start training from score -2.412933\n",
      "[LightGBM] [Info] Start training from score -2.052930\n",
      "[LightGBM] [Warning] No further splits with positive gain, best gain: -inf\n",
      "[LightGBM] [Warning] No further splits with positive gain, best gain: -inf\n",
      "[LightGBM] [Warning] No further splits with positive gain, best gain: -inf\n",
      "[LightGBM] [Warning] No further splits with positive gain, best gain: -inf\n",
      "[LightGBM] [Warning] No further splits with positive gain, best gain: -inf\n",
      "[LightGBM] [Warning] No further splits with positive gain, best gain: -inf\n",
      "[LightGBM] [Warning] No further splits with positive gain, best gain: -inf\n",
      "[LightGBM] [Warning] No further splits with positive gain, best gain: -inf\n",
      "[LightGBM] [Warning] No further splits with positive gain, best gain: -inf\n",
      "[LightGBM] [Warning] No further splits with positive gain, best gain: -inf\n",
      "[LightGBM] [Warning] No further splits with positive gain, best gain: -inf\n",
      "[LightGBM] [Warning] No further splits with positive gain, best gain: -inf\n",
      "[LightGBM] [Warning] No further splits with positive gain, best gain: -inf\n",
      "[LightGBM] [Warning] No further splits with positive gain, best gain: -inf\n",
      "[LightGBM] [Warning] No further splits with positive gain, best gain: -inf\n",
      "[LightGBM] [Warning] No further splits with positive gain, best gain: -inf\n",
      "[LightGBM] [Warning] No further splits with positive gain, best gain: -inf\n",
      "[LightGBM] [Warning] No further splits with positive gain, best gain: -inf\n",
      "[LightGBM] [Warning] No further splits with positive gain, best gain: -inf\n",
      "[LightGBM] [Warning] No further splits with positive gain, best gain: -inf\n",
      "[LightGBM] [Warning] No further splits with positive gain, best gain: -inf\n",
      "[LightGBM] [Warning] No further splits with positive gain, best gain: -inf\n",
      "[LightGBM] [Warning] No further splits with positive gain, best gain: -inf\n",
      "[LightGBM] [Warning] No further splits with positive gain, best gain: -inf\n",
      "[LightGBM] [Warning] No further splits with positive gain, best gain: -inf\n",
      "[LightGBM] [Warning] No further splits with positive gain, best gain: -inf\n",
      "[LightGBM] [Warning] No further splits with positive gain, best gain: -inf\n",
      "[LightGBM] [Warning] No further splits with positive gain, best gain: -inf\n",
      "[LightGBM] [Warning] No further splits with positive gain, best gain: -inf\n",
      "[LightGBM] [Warning] No further splits with positive gain, best gain: -inf\n",
      "[LightGBM] [Warning] No further splits with positive gain, best gain: -inf\n",
      "[LightGBM] [Warning] No further splits with positive gain, best gain: -inf\n",
      "[LightGBM] [Warning] No further splits with positive gain, best gain: -inf\n",
      "[LightGBM] [Warning] No further splits with positive gain, best gain: -inf\n",
      "[LightGBM] [Warning] No further splits with positive gain, best gain: -inf\n",
      "[LightGBM] [Warning] No further splits with positive gain, best gain: -inf\n",
      "[LightGBM] [Warning] No further splits with positive gain, best gain: -inf\n",
      "[LightGBM] [Warning] No further splits with positive gain, best gain: -inf\n",
      "[LightGBM] [Warning] No further splits with positive gain, best gain: -inf\n",
      "[LightGBM] [Warning] No further splits with positive gain, best gain: -inf\n",
      "[LightGBM] [Warning] No further splits with positive gain, best gain: -inf\n",
      "[LightGBM] [Warning] No further splits with positive gain, best gain: -inf\n",
      "[LightGBM] [Warning] No further splits with positive gain, best gain: -inf\n",
      "[LightGBM] [Warning] No further splits with positive gain, best gain: -inf\n",
      "[LightGBM] [Warning] No further splits with positive gain, best gain: -inf\n",
      "[LightGBM] [Warning] No further splits with positive gain, best gain: -inf\n",
      "[LightGBM] [Warning] No further splits with positive gain, best gain: -inf\n",
      "[LightGBM] [Warning] No further splits with positive gain, best gain: -inf\n",
      "[LightGBM] [Warning] No further splits with positive gain, best gain: -inf\n",
      "[LightGBM] [Warning] No further splits with positive gain, best gain: -inf\n",
      "[LightGBM] [Warning] No further splits with positive gain, best gain: -inf\n",
      "[LightGBM] [Warning] No further splits with positive gain, best gain: -inf\n",
      "[LightGBM] [Warning] No further splits with positive gain, best gain: -inf\n",
      "[LightGBM] [Warning] No further splits with positive gain, best gain: -inf\n",
      "[LightGBM] [Warning] No further splits with positive gain, best gain: -inf\n",
      "[LightGBM] [Warning] No further splits with positive gain, best gain: -inf\n",
      "[LightGBM] [Warning] No further splits with positive gain, best gain: -inf\n",
      "[LightGBM] [Warning] No further splits with positive gain, best gain: -inf\n",
      "[LightGBM] [Warning] No further splits with positive gain, best gain: -inf\n",
      "[LightGBM] [Warning] No further splits with positive gain, best gain: -inf\n",
      "[LightGBM] [Warning] No further splits with positive gain, best gain: -inf\n",
      "[LightGBM] [Warning] No further splits with positive gain, best gain: -inf\n",
      "[LightGBM] [Warning] No further splits with positive gain, best gain: -inf\n",
      "[LightGBM] [Warning] No further splits with positive gain, best gain: -inf\n",
      "[LightGBM] [Warning] No further splits with positive gain, best gain: -inf\n",
      "[LightGBM] [Warning] No further splits with positive gain, best gain: -inf\n",
      "[LightGBM] [Warning] No further splits with positive gain, best gain: -inf\n",
      "[LightGBM] [Warning] No further splits with positive gain, best gain: -inf\n",
      "[LightGBM] [Warning] No further splits with positive gain, best gain: -inf\n",
      "[LightGBM] [Warning] No further splits with positive gain, best gain: -inf\n",
      "[LightGBM] [Warning] No further splits with positive gain, best gain: -inf\n"
     ]
    },
    {
     "data": {
      "text/html": [
       "<style>#sk-container-id-160 {color: black;background-color: white;}#sk-container-id-160 pre{padding: 0;}#sk-container-id-160 div.sk-toggleable {background-color: white;}#sk-container-id-160 label.sk-toggleable__label {cursor: pointer;display: block;width: 100%;margin-bottom: 0;padding: 0.3em;box-sizing: border-box;text-align: center;}#sk-container-id-160 label.sk-toggleable__label-arrow:before {content: \"▸\";float: left;margin-right: 0.25em;color: #696969;}#sk-container-id-160 label.sk-toggleable__label-arrow:hover:before {color: black;}#sk-container-id-160 div.sk-estimator:hover label.sk-toggleable__label-arrow:before {color: black;}#sk-container-id-160 div.sk-toggleable__content {max-height: 0;max-width: 0;overflow: hidden;text-align: left;background-color: #f0f8ff;}#sk-container-id-160 div.sk-toggleable__content pre {margin: 0.2em;color: black;border-radius: 0.25em;background-color: #f0f8ff;}#sk-container-id-160 input.sk-toggleable__control:checked~div.sk-toggleable__content {max-height: 200px;max-width: 100%;overflow: auto;}#sk-container-id-160 input.sk-toggleable__control:checked~label.sk-toggleable__label-arrow:before {content: \"▾\";}#sk-container-id-160 div.sk-estimator input.sk-toggleable__control:checked~label.sk-toggleable__label {background-color: #d4ebff;}#sk-container-id-160 div.sk-label input.sk-toggleable__control:checked~label.sk-toggleable__label {background-color: #d4ebff;}#sk-container-id-160 input.sk-hidden--visually {border: 0;clip: rect(1px 1px 1px 1px);clip: rect(1px, 1px, 1px, 1px);height: 1px;margin: -1px;overflow: hidden;padding: 0;position: absolute;width: 1px;}#sk-container-id-160 div.sk-estimator {font-family: monospace;background-color: #f0f8ff;border: 1px dotted black;border-radius: 0.25em;box-sizing: border-box;margin-bottom: 0.5em;}#sk-container-id-160 div.sk-estimator:hover {background-color: #d4ebff;}#sk-container-id-160 div.sk-parallel-item::after {content: \"\";width: 100%;border-bottom: 1px solid gray;flex-grow: 1;}#sk-container-id-160 div.sk-label:hover label.sk-toggleable__label {background-color: #d4ebff;}#sk-container-id-160 div.sk-serial::before {content: \"\";position: absolute;border-left: 1px solid gray;box-sizing: border-box;top: 0;bottom: 0;left: 50%;z-index: 0;}#sk-container-id-160 div.sk-serial {display: flex;flex-direction: column;align-items: center;background-color: white;padding-right: 0.2em;padding-left: 0.2em;position: relative;}#sk-container-id-160 div.sk-item {position: relative;z-index: 1;}#sk-container-id-160 div.sk-parallel {display: flex;align-items: stretch;justify-content: center;background-color: white;position: relative;}#sk-container-id-160 div.sk-item::before, #sk-container-id-160 div.sk-parallel-item::before {content: \"\";position: absolute;border-left: 1px solid gray;box-sizing: border-box;top: 0;bottom: 0;left: 50%;z-index: -1;}#sk-container-id-160 div.sk-parallel-item {display: flex;flex-direction: column;z-index: 1;position: relative;background-color: white;}#sk-container-id-160 div.sk-parallel-item:first-child::after {align-self: flex-end;width: 50%;}#sk-container-id-160 div.sk-parallel-item:last-child::after {align-self: flex-start;width: 50%;}#sk-container-id-160 div.sk-parallel-item:only-child::after {width: 0;}#sk-container-id-160 div.sk-dashed-wrapped {border: 1px dashed gray;margin: 0 0.4em 0.5em 0.4em;box-sizing: border-box;padding-bottom: 0.4em;background-color: white;}#sk-container-id-160 div.sk-label label {font-family: monospace;font-weight: bold;display: inline-block;line-height: 1.2em;}#sk-container-id-160 div.sk-label-container {text-align: center;}#sk-container-id-160 div.sk-container {/* jupyter's `normalize.less` sets `[hidden] { display: none; }` but bootstrap.min.css set `[hidden] { display: none !important; }` so we also need the `!important` here to be able to override the default hidden behavior on the sphinx rendered scikit-learn.org. See: https://github.com/scikit-learn/scikit-learn/issues/21755 */display: inline-block !important;position: relative;}#sk-container-id-160 div.sk-text-repr-fallback {display: none;}</style><div id=\"sk-container-id-160\" class=\"sk-top-container\"><div class=\"sk-text-repr-fallback\"><pre>LGBMClassifier(n_estimators=200, num_leaves=9)</pre><b>In a Jupyter environment, please rerun this cell to show the HTML representation or trust the notebook. <br />On GitHub, the HTML representation is unable to render, please try loading this page with nbviewer.org.</b></div><div class=\"sk-container\" hidden><div class=\"sk-item\"><div class=\"sk-estimator sk-toggleable\"><input class=\"sk-toggleable__control sk-hidden--visually\" id=\"sk-estimator-id-160\" type=\"checkbox\" checked><label for=\"sk-estimator-id-160\" class=\"sk-toggleable__label sk-toggleable__label-arrow\">LGBMClassifier</label><div class=\"sk-toggleable__content\"><pre>LGBMClassifier(n_estimators=200, num_leaves=9)</pre></div></div></div></div></div>"
      ],
      "text/plain": [
       "LGBMClassifier(n_estimators=200, num_leaves=9)"
      ]
     },
     "execution_count": 1172,
     "metadata": {},
     "output_type": "execute_result"
    }
   ],
   "source": [
    "lgbm_classifier = LGBMClassifier(boosting_type='gbdt', num_leaves=9, learning_rate=0.1, n_estimators=200)\n",
    "lgbm_classifier.fit(X_train, y_train)"
   ]
  },
  {
   "cell_type": "code",
   "execution_count": 1173,
   "id": "f40d5d29",
   "metadata": {},
   "outputs": [
    {
     "name": "stdout",
     "output_type": "stream",
     "text": [
      "Accuracy score of train data = 0.9970149253731343\n"
     ]
    }
   ],
   "source": [
    "train_pred = lgbm_classifier.predict(X_train)\n",
    "accuracy = accuracy_score(train_pred, y_train)\n",
    "print(\"Accuracy score of train data = {}\".format(accuracy))"
   ]
  },
  {
   "cell_type": "code",
   "execution_count": 1174,
   "id": "f37baf90",
   "metadata": {},
   "outputs": [
    {
     "name": "stdout",
     "output_type": "stream",
     "text": [
      "Accuracy score of test data: 0.64\n"
     ]
    }
   ],
   "source": [
    "y_pred = lgbm_classifier.predict(X_test)\n",
    "accuracy = accuracy_score(y_pred,y_test)\n",
    "print(f\"Accuracy score of test data: {accuracy:.2f}\")\n"
   ]
  },
  {
   "cell_type": "code",
   "execution_count": 1175,
   "id": "99afb978",
   "metadata": {},
   "outputs": [],
   "source": [
    "#Naive Bayes"
   ]
  },
  {
   "cell_type": "code",
   "execution_count": 1176,
   "id": "eb886208",
   "metadata": {},
   "outputs": [
    {
     "data": {
      "text/html": [
       "<style>#sk-container-id-161 {color: black;background-color: white;}#sk-container-id-161 pre{padding: 0;}#sk-container-id-161 div.sk-toggleable {background-color: white;}#sk-container-id-161 label.sk-toggleable__label {cursor: pointer;display: block;width: 100%;margin-bottom: 0;padding: 0.3em;box-sizing: border-box;text-align: center;}#sk-container-id-161 label.sk-toggleable__label-arrow:before {content: \"▸\";float: left;margin-right: 0.25em;color: #696969;}#sk-container-id-161 label.sk-toggleable__label-arrow:hover:before {color: black;}#sk-container-id-161 div.sk-estimator:hover label.sk-toggleable__label-arrow:before {color: black;}#sk-container-id-161 div.sk-toggleable__content {max-height: 0;max-width: 0;overflow: hidden;text-align: left;background-color: #f0f8ff;}#sk-container-id-161 div.sk-toggleable__content pre {margin: 0.2em;color: black;border-radius: 0.25em;background-color: #f0f8ff;}#sk-container-id-161 input.sk-toggleable__control:checked~div.sk-toggleable__content {max-height: 200px;max-width: 100%;overflow: auto;}#sk-container-id-161 input.sk-toggleable__control:checked~label.sk-toggleable__label-arrow:before {content: \"▾\";}#sk-container-id-161 div.sk-estimator input.sk-toggleable__control:checked~label.sk-toggleable__label {background-color: #d4ebff;}#sk-container-id-161 div.sk-label input.sk-toggleable__control:checked~label.sk-toggleable__label {background-color: #d4ebff;}#sk-container-id-161 input.sk-hidden--visually {border: 0;clip: rect(1px 1px 1px 1px);clip: rect(1px, 1px, 1px, 1px);height: 1px;margin: -1px;overflow: hidden;padding: 0;position: absolute;width: 1px;}#sk-container-id-161 div.sk-estimator {font-family: monospace;background-color: #f0f8ff;border: 1px dotted black;border-radius: 0.25em;box-sizing: border-box;margin-bottom: 0.5em;}#sk-container-id-161 div.sk-estimator:hover {background-color: #d4ebff;}#sk-container-id-161 div.sk-parallel-item::after {content: \"\";width: 100%;border-bottom: 1px solid gray;flex-grow: 1;}#sk-container-id-161 div.sk-label:hover label.sk-toggleable__label {background-color: #d4ebff;}#sk-container-id-161 div.sk-serial::before {content: \"\";position: absolute;border-left: 1px solid gray;box-sizing: border-box;top: 0;bottom: 0;left: 50%;z-index: 0;}#sk-container-id-161 div.sk-serial {display: flex;flex-direction: column;align-items: center;background-color: white;padding-right: 0.2em;padding-left: 0.2em;position: relative;}#sk-container-id-161 div.sk-item {position: relative;z-index: 1;}#sk-container-id-161 div.sk-parallel {display: flex;align-items: stretch;justify-content: center;background-color: white;position: relative;}#sk-container-id-161 div.sk-item::before, #sk-container-id-161 div.sk-parallel-item::before {content: \"\";position: absolute;border-left: 1px solid gray;box-sizing: border-box;top: 0;bottom: 0;left: 50%;z-index: -1;}#sk-container-id-161 div.sk-parallel-item {display: flex;flex-direction: column;z-index: 1;position: relative;background-color: white;}#sk-container-id-161 div.sk-parallel-item:first-child::after {align-self: flex-end;width: 50%;}#sk-container-id-161 div.sk-parallel-item:last-child::after {align-self: flex-start;width: 50%;}#sk-container-id-161 div.sk-parallel-item:only-child::after {width: 0;}#sk-container-id-161 div.sk-dashed-wrapped {border: 1px dashed gray;margin: 0 0.4em 0.5em 0.4em;box-sizing: border-box;padding-bottom: 0.4em;background-color: white;}#sk-container-id-161 div.sk-label label {font-family: monospace;font-weight: bold;display: inline-block;line-height: 1.2em;}#sk-container-id-161 div.sk-label-container {text-align: center;}#sk-container-id-161 div.sk-container {/* jupyter's `normalize.less` sets `[hidden] { display: none; }` but bootstrap.min.css set `[hidden] { display: none !important; }` so we also need the `!important` here to be able to override the default hidden behavior on the sphinx rendered scikit-learn.org. See: https://github.com/scikit-learn/scikit-learn/issues/21755 */display: inline-block !important;position: relative;}#sk-container-id-161 div.sk-text-repr-fallback {display: none;}</style><div id=\"sk-container-id-161\" class=\"sk-top-container\"><div class=\"sk-text-repr-fallback\"><pre>GaussianNB()</pre><b>In a Jupyter environment, please rerun this cell to show the HTML representation or trust the notebook. <br />On GitHub, the HTML representation is unable to render, please try loading this page with nbviewer.org.</b></div><div class=\"sk-container\" hidden><div class=\"sk-item\"><div class=\"sk-estimator sk-toggleable\"><input class=\"sk-toggleable__control sk-hidden--visually\" id=\"sk-estimator-id-161\" type=\"checkbox\" checked><label for=\"sk-estimator-id-161\" class=\"sk-toggleable__label sk-toggleable__label-arrow\">GaussianNB</label><div class=\"sk-toggleable__content\"><pre>GaussianNB()</pre></div></div></div></div></div>"
      ],
      "text/plain": [
       "GaussianNB()"
      ]
     },
     "execution_count": 1176,
     "metadata": {},
     "output_type": "execute_result"
    }
   ],
   "source": [
    "nb_classifier = GaussianNB()\n",
    "nb_classifier.fit(X_train, y_train)"
   ]
  },
  {
   "cell_type": "code",
   "execution_count": 1177,
   "id": "22b7b9a8",
   "metadata": {},
   "outputs": [
    {
     "name": "stdout",
     "output_type": "stream",
     "text": [
      "Accuracy score of train data = 0.4208955223880597\n"
     ]
    }
   ],
   "source": [
    "train_pred = nb_classifier.predict(X_train)\n",
    "accuracy = accuracy_score(train_pred, y_train)\n",
    "print(\"Accuracy score of train data = {}\".format(accuracy))"
   ]
  },
  {
   "cell_type": "code",
   "execution_count": 1178,
   "id": "721ce1e7",
   "metadata": {},
   "outputs": [
    {
     "name": "stdout",
     "output_type": "stream",
     "text": [
      "Accuracy score of test data: 0.42\n"
     ]
    }
   ],
   "source": [
    "y_pred = nb_classifier.predict(X_test)\n",
    "accuracy = accuracy_score(y_test, y_pred)\n",
    "print(f\"Accuracy score of test data: {accuracy:.2f}\")"
   ]
  },
  {
   "cell_type": "code",
   "execution_count": 1179,
   "id": "9578c97c",
   "metadata": {},
   "outputs": [],
   "source": [
    "#CatBoost"
   ]
  },
  {
   "cell_type": "code",
   "execution_count": 1180,
   "id": "38f8d7c9",
   "metadata": {},
   "outputs": [
    {
     "data": {
      "text/plain": [
       "<catboost.core.CatBoostClassifier at 0x26d32501540>"
      ]
     },
     "execution_count": 1180,
     "metadata": {},
     "output_type": "execute_result"
    }
   ],
   "source": [
    "model = CatBoostClassifier(iterations=100, depth=3, learning_rate=0.1, loss_function='MultiClass', verbose=False)\n",
    "model.fit(X_train, y_train)"
   ]
  },
  {
   "cell_type": "code",
   "execution_count": 1181,
   "id": "ea463c6a",
   "metadata": {},
   "outputs": [
    {
     "name": "stdout",
     "output_type": "stream",
     "text": [
      "Accuracy of test data: 0.57\n"
     ]
    }
   ],
   "source": [
    "y_pred = model.predict(X_test)\n",
    "accuracy = accuracy_score(y_test, y_pred)\n",
    "print(f\"Accuracy of test data: {accuracy:.2f}\")"
   ]
  },
  {
   "cell_type": "code",
   "execution_count": 1182,
   "id": "c542cf85",
   "metadata": {},
   "outputs": [
    {
     "name": "stdout",
     "output_type": "stream",
     "text": [
      "Accuracy score of train data = 0.6716417910447762\n"
     ]
    }
   ],
   "source": [
    "train_pred = model.predict(X_train)\n",
    "accuracy = accuracy_score(train_pred, y_train)\n",
    "print(\"Accuracy score of train data = {}\".format(accuracy))"
   ]
  },
  {
   "cell_type": "code",
   "execution_count": 1183,
   "id": "8ec7fe99",
   "metadata": {},
   "outputs": [
    {
     "name": "stdout",
     "output_type": "stream",
     "text": [
      "GT\n"
     ]
    }
   ],
   "source": [
    "# Create a DataFrame for the new data\n",
    "data = {\n",
    "    'venue': ['Narendra Modi Stadium'],\n",
    "    'team1': ['RCB'],\n",
    "    'team2': ['GT'],\n",
    "    'toss_winner': ['RCB'],\n",
    "    'toss_decision' : ['BOWL']\n",
    "}\n",
    "df1 = pd.DataFrame(data)\n",
    "\n",
    "df1['win_streak_team1'] = df1['team1'].map(win_streaks)\n",
    "df1['win_streak_team2'] = df1['team2'].map(win_streaks)\n",
    "\n",
    "# Assuming you've used LabelEncoder during training, you need to transform your new data as well\n",
    "encoder = LabelEncoder()\n",
    "\n",
    "# Fit and transform the data\n",
    "df1['venue'] = encoder.fit_transform(df1['venue'])\n",
    "df1['team1'] = encoder.fit_transform(df1['team1'])\n",
    "df1['team2'] = encoder.fit_transform(df1['team2'])\n",
    "df1['toss_winner'] = encoder.fit_transform(df1['toss_winner'])\n",
    "df1['toss_decision'] = encoder.fit_transform(df1['toss_decision'])\n",
    "df1 = df1.fillna(0)\n",
    "\n",
    "# Use the model to predict the winner\n",
    "predictions = rf_classifier.predict(df1)\n",
    "\n",
    "# Inverse transform the predicted winner\n",
    "decoded_predictions = team_encoder.inverse_transform(predictions)\n",
    "\n",
    "print(decoded_predictions[0])"
   ]
  },
  {
   "cell_type": "code",
   "execution_count": null,
   "id": "c412cba4",
   "metadata": {},
   "outputs": [],
   "source": []
  },
  {
   "cell_type": "code",
   "execution_count": null,
   "id": "09494b7b",
   "metadata": {},
   "outputs": [],
   "source": []
  }
 ],
 "metadata": {
  "kernelspec": {
   "display_name": "Python 3 (ipykernel)",
   "language": "python",
   "name": "python3"
  },
  "language_info": {
   "codemirror_mode": {
    "name": "ipython",
    "version": 3
   },
   "file_extension": ".py",
   "mimetype": "text/x-python",
   "name": "python",
   "nbconvert_exporter": "python",
   "pygments_lexer": "ipython3",
   "version": "3.10.9"
  }
 },
 "nbformat": 4,
 "nbformat_minor": 5
}
